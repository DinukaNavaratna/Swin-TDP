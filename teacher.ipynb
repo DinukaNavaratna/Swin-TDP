{
 "cells": [
  {
   "cell_type": "markdown",
   "id": "dbf20a49-419e-40b4-a066-bd248fc164cd",
   "metadata": {},
   "source": [
    "# Teacher dashboard"
   ]
  },
  {
   "cell_type": "code",
   "execution_count": 1,
   "id": "b7d7e04e-9a12-4f91-9bae-eff6e6d20f62",
   "metadata": {},
   "outputs": [],
   "source": [
    "import numpy as np\n",
    "import pandas as pd\n",
    "from pandas import read_excel\n",
    "\n",
    "import networkx as nx\n",
    "import matplotlib.pyplot as plt"
   ]
  },
  {
   "cell_type": "code",
   "execution_count": 2,
   "id": "99cc21ca-df90-4605-8543-626003adb2a8",
   "metadata": {},
   "outputs": [],
   "source": [
    "# data source\n",
    "# survey result  \n",
    "df = read_excel('Student Survey - July.xlsx', sheet_name='responses')\n",
    "# students attributes\n",
    "df2 = read_excel('Student Survey - July.xlsx', sheet_name='participantsNov')\n",
    "# inner merge on participant ID\n",
    "temp = pd.merge(df, df2, on=['Participant-ID'])\n",
    "\n",
    "\n",
    "# data cleaning\n",
    "# hard-code a house\n",
    "hard_coded_house = 'Vanguard'\n",
    "# select only 'completed'\n",
    "df3 = temp[(temp['Status'].isin(['completed'])) & (temp['House'] == hard_coded_house)]"
   ]
  },
  {
   "cell_type": "markdown",
   "id": "fda4011d-1582-4a8d-b9bd-ca1eb1159c6c",
   "metadata": {
    "jp-MarkdownHeadingCollapsed": true,
    "tags": []
   },
   "source": [
    "# Landing page"
   ]
  },
  {
   "cell_type": "markdown",
   "id": "c93aa6b1-091c-449a-bf0c-da51a119e691",
   "metadata": {
    "jp-MarkdownHeadingCollapsed": true,
    "tags": []
   },
   "source": [
    "## 1. survey completion rate"
   ]
  },
  {
   "cell_type": "code",
   "execution_count": 3,
   "id": "55b0b67c-66d6-4375-a00a-5ead6ee93c4e",
   "metadata": {},
   "outputs": [
    {
     "name": "stdout",
     "output_type": "stream",
     "text": [
      "Percentage of non-completion =  3.45 %\n"
     ]
    }
   ],
   "source": [
    "print('Percentage of non-completion = ', round((len(temp[temp['House'] == hard_coded_house]) - len(temp[(temp['Status'] == 'completed') & (temp['House'] == hard_coded_house)]))/len(temp) * 100, 2), '%')"
   ]
  },
  {
   "cell_type": "markdown",
   "id": "38d47464-05b1-428e-a13a-1f005ec63663",
   "metadata": {
    "jp-MarkdownHeadingCollapsed": true,
    "tags": []
   },
   "source": [
    "### 1.1 students list for teacher to follow up"
   ]
  },
  {
   "cell_type": "code",
   "execution_count": 4,
   "id": "eac2580b-4ab7-421c-af4c-84a3b6d5daf1",
   "metadata": {},
   "outputs": [
    {
     "data": {
      "text/html": [
       "<div>\n",
       "<style scoped>\n",
       "    .dataframe tbody tr th:only-of-type {\n",
       "        vertical-align: middle;\n",
       "    }\n",
       "\n",
       "    .dataframe tbody tr th {\n",
       "        vertical-align: top;\n",
       "    }\n",
       "\n",
       "    .dataframe thead th {\n",
       "        text-align: right;\n",
       "    }\n",
       "</style>\n",
       "<table border=\"1\" class=\"dataframe\">\n",
       "  <thead>\n",
       "    <tr style=\"text-align: right;\">\n",
       "      <th></th>\n",
       "      <th>Participant-ID</th>\n",
       "      <th>First-Name</th>\n",
       "      <th>Last-Name</th>\n",
       "      <th>Email</th>\n",
       "      <th>Contact Number</th>\n",
       "      <th>Status</th>\n",
       "    </tr>\n",
       "  </thead>\n",
       "  <tbody>\n",
       "    <tr>\n",
       "      <th>23</th>\n",
       "      <td>37859</td>\n",
       "      <td>Isaac</td>\n",
       "      <td>Walker</td>\n",
       "      <td>Isaac.Walker@school.edu</td>\n",
       "      <td>NaN</td>\n",
       "      <td>in progress</td>\n",
       "    </tr>\n",
       "    <tr>\n",
       "      <th>28</th>\n",
       "      <td>37922</td>\n",
       "      <td>Cole</td>\n",
       "      <td>Brooks</td>\n",
       "      <td>Cole.Brooks@school.edu</td>\n",
       "      <td>NaN</td>\n",
       "      <td>in progress</td>\n",
       "    </tr>\n",
       "    <tr>\n",
       "      <th>38</th>\n",
       "      <td>37867</td>\n",
       "      <td>Winston</td>\n",
       "      <td>Bruce</td>\n",
       "      <td>Winston.Bruce@school.edu</td>\n",
       "      <td>NaN</td>\n",
       "      <td>in progress</td>\n",
       "    </tr>\n",
       "    <tr>\n",
       "      <th>99</th>\n",
       "      <td>37898</td>\n",
       "      <td>Joseph</td>\n",
       "      <td>Thompson</td>\n",
       "      <td>Joseph.Thompson@school.edu</td>\n",
       "      <td>NaN</td>\n",
       "      <td>in progress</td>\n",
       "    </tr>\n",
       "    <tr>\n",
       "      <th>101</th>\n",
       "      <td>37944</td>\n",
       "      <td>Jaxson</td>\n",
       "      <td>Washington</td>\n",
       "      <td>Jaxson.Washington@school.edu</td>\n",
       "      <td>NaN</td>\n",
       "      <td>in progress</td>\n",
       "    </tr>\n",
       "    <tr>\n",
       "      <th>116</th>\n",
       "      <td>37976</td>\n",
       "      <td>Cole</td>\n",
       "      <td>Stewart</td>\n",
       "      <td>Cole.Stewart@school.edu</td>\n",
       "      <td>NaN</td>\n",
       "      <td>in progress</td>\n",
       "    </tr>\n",
       "  </tbody>\n",
       "</table>\n",
       "</div>"
      ],
      "text/plain": [
       "     Participant-ID First-Name   Last-Name                         Email  \\\n",
       "23            37859      Isaac      Walker       Isaac.Walker@school.edu   \n",
       "28            37922       Cole      Brooks        Cole.Brooks@school.edu   \n",
       "38            37867    Winston       Bruce      Winston.Bruce@school.edu   \n",
       "99            37898     Joseph    Thompson    Joseph.Thompson@school.edu   \n",
       "101           37944     Jaxson  Washington  Jaxson.Washington@school.edu   \n",
       "116           37976       Cole     Stewart       Cole.Stewart@school.edu   \n",
       "\n",
       "     Contact Number       Status  \n",
       "23              NaN  in progress  \n",
       "28              NaN  in progress  \n",
       "38              NaN  in progress  \n",
       "99              NaN  in progress  \n",
       "101             NaN  in progress  \n",
       "116             NaN  in progress  "
      ]
     },
     "execution_count": 4,
     "metadata": {},
     "output_type": "execute_result"
    }
   ],
   "source": [
    "temp[['Participant-ID', 'First-Name', 'Last-Name', 'Email', 'Contact Number', 'Status']][(temp['Status'].isin(['in progress', 'invited'])) & (temp['House'] == hard_coded_house)]"
   ]
  },
  {
   "cell_type": "markdown",
   "id": "bd643d44-c598-48a1-959c-22cb4a63d837",
   "metadata": {
    "jp-MarkdownHeadingCollapsed": true,
    "tags": []
   },
   "source": [
    "# 'Alert' dashboard"
   ]
  },
  {
   "cell_type": "markdown",
   "id": "a6df855e-503f-499e-91c6-403ab5964ba6",
   "metadata": {
    "jp-MarkdownHeadingCollapsed": true,
    "tags": []
   },
   "source": [
    "## 1.K6 score"
   ]
  },
  {
   "cell_type": "markdown",
   "id": "4587c259-d36c-4d40-a718-1b11518c74da",
   "metadata": {
    "tags": []
   },
   "source": [
    "### 1.1a student with abnormal score"
   ]
  },
  {
   "cell_type": "code",
   "execution_count": 5,
   "id": "fb53c807-3073-4f39-a103-cb6fa2ce3837",
   "metadata": {},
   "outputs": [
    {
     "data": {
      "text/html": [
       "<div>\n",
       "<style scoped>\n",
       "    .dataframe tbody tr th:only-of-type {\n",
       "        vertical-align: middle;\n",
       "    }\n",
       "\n",
       "    .dataframe tbody tr th {\n",
       "        vertical-align: top;\n",
       "    }\n",
       "\n",
       "    .dataframe thead th {\n",
       "        text-align: right;\n",
       "    }\n",
       "</style>\n",
       "<table border=\"1\" class=\"dataframe\">\n",
       "  <thead>\n",
       "    <tr style=\"text-align: right;\">\n",
       "      <th></th>\n",
       "      <th>Participant-ID</th>\n",
       "      <th>First-Name</th>\n",
       "      <th>Last-Name</th>\n",
       "      <th>k6_overall</th>\n",
       "    </tr>\n",
       "  </thead>\n",
       "  <tbody>\n",
       "    <tr>\n",
       "      <th>102</th>\n",
       "      <td>37884</td>\n",
       "      <td>Emmanuel</td>\n",
       "      <td>Chambers</td>\n",
       "      <td>20.0</td>\n",
       "    </tr>\n",
       "  </tbody>\n",
       "</table>\n",
       "</div>"
      ],
      "text/plain": [
       "     Participant-ID First-Name Last-Name  k6_overall\n",
       "102           37884   Emmanuel  Chambers        20.0"
      ]
     },
     "execution_count": 5,
     "metadata": {},
     "output_type": "execute_result"
    }
   ],
   "source": [
    "df3[['Participant-ID', 'First-Name', 'Last-Name', 'k6_overall']][(df3['k6_overall'] >= 20)]"
   ]
  },
  {
   "cell_type": "markdown",
   "id": "4aae2e64-f484-4e35-9aca-4c9f86316d5a",
   "metadata": {
    "jp-MarkdownHeadingCollapsed": true,
    "tags": []
   },
   "source": [
    "### 1.1b student with borderline score"
   ]
  },
  {
   "cell_type": "code",
   "execution_count": 6,
   "id": "43692058-334f-4d7a-a490-2b4af3221da5",
   "metadata": {},
   "outputs": [
    {
     "data": {
      "text/html": [
       "<div>\n",
       "<style scoped>\n",
       "    .dataframe tbody tr th:only-of-type {\n",
       "        vertical-align: middle;\n",
       "    }\n",
       "\n",
       "    .dataframe tbody tr th {\n",
       "        vertical-align: top;\n",
       "    }\n",
       "\n",
       "    .dataframe thead th {\n",
       "        text-align: right;\n",
       "    }\n",
       "</style>\n",
       "<table border=\"1\" class=\"dataframe\">\n",
       "  <thead>\n",
       "    <tr style=\"text-align: right;\">\n",
       "      <th></th>\n",
       "      <th>Participant-ID</th>\n",
       "      <th>First-Name</th>\n",
       "      <th>Last-Name</th>\n",
       "      <th>k6_overall</th>\n",
       "    </tr>\n",
       "  </thead>\n",
       "  <tbody>\n",
       "    <tr>\n",
       "      <th>63</th>\n",
       "      <td>37965</td>\n",
       "      <td>Tristan</td>\n",
       "      <td>James</td>\n",
       "      <td>16.0</td>\n",
       "    </tr>\n",
       "    <tr>\n",
       "      <th>96</th>\n",
       "      <td>37983</td>\n",
       "      <td>Jude</td>\n",
       "      <td>Graham</td>\n",
       "      <td>19.0</td>\n",
       "    </tr>\n",
       "    <tr>\n",
       "      <th>139</th>\n",
       "      <td>37886</td>\n",
       "      <td>Xavier</td>\n",
       "      <td>Bryant</td>\n",
       "      <td>17.0</td>\n",
       "    </tr>\n",
       "  </tbody>\n",
       "</table>\n",
       "</div>"
      ],
      "text/plain": [
       "     Participant-ID First-Name Last-Name  k6_overall\n",
       "63            37965    Tristan     James        16.0\n",
       "96            37983       Jude    Graham        19.0\n",
       "139           37886     Xavier    Bryant        17.0"
      ]
     },
     "execution_count": 6,
     "metadata": {},
     "output_type": "execute_result"
    }
   ],
   "source": [
    "df3[['Participant-ID', 'First-Name', 'Last-Name', 'k6_overall']][(df3['k6_overall'] >= 16) & (df3['k6_overall'] < 20)]"
   ]
  },
  {
   "cell_type": "code",
   "execution_count": 7,
   "id": "eba5e2c2-406e-48d2-a3b3-de3fb09b5b52",
   "metadata": {},
   "outputs": [
    {
     "data": {
      "text/plain": [
       "63     37965\n",
       "96     37983\n",
       "139    37886\n",
       "Name: Participant-ID, dtype: int64"
      ]
     },
     "execution_count": 7,
     "metadata": {},
     "output_type": "execute_result"
    }
   ],
   "source": [
    "df3['Participant-ID'][(df3['k6_overall'] >= 16) & (df3['k6_overall'] < 20)]"
   ]
  },
  {
   "cell_type": "markdown",
   "id": "56656507-c81d-459b-ac78-64c54b149ef2",
   "metadata": {
    "jp-MarkdownHeadingCollapsed": true,
    "tags": []
   },
   "source": [
    "#### 1.1.1 For each student in the list of 2.1 and 2.2, show their network relationships"
   ]
  },
  {
   "cell_type": "code",
   "execution_count": 8,
   "id": "e5ebbc20-b93c-44b8-9380-174524a2077c",
   "metadata": {},
   "outputs": [],
   "source": [
    "SNA_network_list = ['net_0_Friends', 'net_1_Influential', 'net_2_Feedback', 'net_3_MoreTime', 'net_4_Advice', 'net_5_Disrespect']\n",
    "studentID = df3['Participant-ID']\n",
    "\n",
    "network_html = SNA_network_list[2] # user select one network to show\n",
    "student_html = studentID.iloc[1] # user select a student"
   ]
  },
  {
   "cell_type": "code",
   "execution_count": 9,
   "id": "3dd80996-a615-4e3f-be1b-5f54780b5b3b",
   "metadata": {},
   "outputs": [
    {
     "data": {
      "image/png": "[encoded data removed]",
      "text/plain": [
       "<Figure size 640x480 with 1 Axes>"
      ]
     },
     "metadata": {},
     "output_type": "display_data"
    }
   ],
   "source": [
    "network = read_excel('Student Survey - July.xlsx', sheet_name=network_html)\n",
    "network.drop(network[network['Source'] != student_html].index, inplace=True)\n",
    "np.savetxt(r'network_result.txt', network.values, fmt='%d')\n",
    "G = nx.read_edgelist(\"network_result.txt\",create_using=nx.DiGraph())\n",
    "nx.draw_networkx(G, with_labels=True)"
   ]
  },
  {
   "cell_type": "markdown",
   "id": "4ed7f23d-a47d-4e47-9a41-aadc2c039ec9",
   "metadata": {
    "jp-MarkdownHeadingCollapsed": true,
    "tags": []
   },
   "source": [
    "## 2. Disrespectful"
   ]
  },
  {
   "cell_type": "code",
   "execution_count": 10,
   "id": "fde9e01f-efb3-4f50-9922-ba0994a74029",
   "metadata": {},
   "outputs": [],
   "source": [
    "temp_list_1 = read_excel('Student Survey - July.xlsx', sheet_name= 'net_5_Disrespect')\n",
    "temp_list_1 = temp_list_1.rename(columns={'Source': 'Participant-ID', 'Target': 'Target'})\n",
    "temp_list_2 = read_excel('Student Survey - July.xlsx', sheet_name='participantsNov')\n",
    "disrespect_list_1 = pd.merge(temp_list_1, temp_list_2, on=['Participant-ID'])\n",
    "disrespect_list_2 = disrespect_list_1[['Participant-ID', 'First-Name', 'Last-Name', 'Target']][disrespect_list_1['House'] == hard_coded_house]"
   ]
  },
  {
   "cell_type": "code",
   "execution_count": 11,
   "id": "b1b14acd-457d-4d46-8d45-83073468a5ab",
   "metadata": {},
   "outputs": [
    {
     "data": {
      "image/png": "[encoded data removed]",
      "text/plain": [
       "<Figure size 640x480 with 1 Axes>"
      ]
     },
     "metadata": {},
     "output_type": "display_data"
    }
   ],
   "source": [
    "# Create a graph from the data\n",
    "G = nx.from_pandas_edgelist(disrespect_list_2, source='Participant-ID', target='Target')\n",
    "\n",
    "# Visualize the graph\n",
    "pos = nx.spring_layout(G)\n",
    "labels = {node: node for node in G.nodes()}\n",
    "\n",
    "# Create a figure and axis objects\n",
    "fig, ax = plt.subplots()\n",
    "\n",
    "# Draw the graph on the axis\n",
    "nx.draw(G, pos, with_labels=True, labels=labels, node_size=500, node_color='skyblue', font_size=8, ax=ax)\n",
    "\n",
    "# Show the plot\n",
    "plt.show()"
   ]
  },
  {
   "cell_type": "markdown",
   "id": "735e1318-d477-4b73-9a94-e4b8b6c4c17c",
   "metadata": {
    "jp-MarkdownHeadingCollapsed": true,
    "tags": []
   },
   "source": [
    "### 2.1 List of student being disrespected by"
   ]
  },
  {
   "cell_type": "code",
   "execution_count": 12,
   "id": "bd50c0b6-f728-4a98-a012-5fdf63faa08f",
   "metadata": {},
   "outputs": [
    {
     "data": {
      "text/plain": [
       "array([37851, 37922, 37849, 37992, 37958, 37904, 37894, 37951, 37983,\n",
       "       37978, 37898, 37895, 37976, 37872, 37997, 37890], dtype=int64)"
      ]
     },
     "execution_count": 12,
     "metadata": {},
     "output_type": "execute_result"
    }
   ],
   "source": [
    "victim = disrespect_list_2[['Participant-ID', 'First-Name', 'Last-Name']]\n",
    "victim['Participant-ID'].unique()"
   ]
  },
  {
   "cell_type": "markdown",
   "id": "f41a5cdd-4067-46ae-9750-d26c406ba9a7",
   "metadata": {
    "jp-MarkdownHeadingCollapsed": true,
    "tags": []
   },
   "source": [
    "### 2.2 List of student being disrespecful"
   ]
  },
  {
   "cell_type": "code",
   "execution_count": 13,
   "id": "773b38d3-35b1-4703-9458-c7acab24f4d9",
   "metadata": {},
   "outputs": [
    {
     "data": {
      "text/plain": [
       "array([37854, 37964, 37979, 37960, 37957, 37898, 37913, 37976, 38021,\n",
       "       37951, 37944, 37962, 37906, 37949, 37851, 37889, 37863, 37943,\n",
       "       37904], dtype=int64)"
      ]
     },
     "execution_count": 13,
     "metadata": {},
     "output_type": "execute_result"
    }
   ],
   "source": [
    "bully = disrespect_list_2['Target']\n",
    "bully.unique()"
   ]
  },
  {
   "cell_type": "markdown",
   "id": "dceaef4f-bb65-434a-82a4-7d3c90c347ed",
   "metadata": {
    "jp-MarkdownHeadingCollapsed": true,
    "tags": []
   },
   "source": [
    "### 2.3 indvidual student SNA dashboard"
   ]
  },
  {
   "cell_type": "code",
   "execution_count": 14,
   "id": "e438f551-00a2-4b54-a10b-9dfa331b6b93",
   "metadata": {},
   "outputs": [],
   "source": [
    "SNA_network_list = ['net_0_Friends', 'net_1_Influential', 'net_2_Feedback', 'net_3_MoreTime', 'net_4_Advice', 'net_5_Disrespect'] \n",
    "studentID = df3['Participant-ID']"
   ]
  },
  {
   "cell_type": "code",
   "execution_count": 15,
   "id": "c624c3fb-b67e-4a84-839d-35fab3349390",
   "metadata": {},
   "outputs": [],
   "source": [
    "student_html = studentID.iloc[3] # user select a student\n",
    "network_html = SNA_network_list[4] # user select one network to show"
   ]
  },
  {
   "cell_type": "code",
   "execution_count": 16,
   "id": "66b0eb00-abe8-42c1-890d-bd2b4b4a6200",
   "metadata": {},
   "outputs": [
    {
     "data": {
      "image/png": "[encoded data removed]",
      "text/plain": [
       "<Figure size 640x480 with 1 Axes>"
      ]
     },
     "metadata": {},
     "output_type": "display_data"
    }
   ],
   "source": [
    "network = read_excel('Student Survey - July.xlsx', sheet_name=network_html)\n",
    "network.drop(network[network['Source'] != student_html].index, inplace=True)\n",
    "np.savetxt(r'network_result.txt', network.values, fmt='%d')\n",
    "G = nx.read_edgelist(\"network_result.txt\",create_using=nx.DiGraph())\n",
    "nx.draw_networkx(G, with_labels=True)"
   ]
  },
  {
   "cell_type": "markdown",
   "id": "9201a4f6-db16-4db9-802e-f79ffece64ed",
   "metadata": {
    "tags": []
   },
   "source": [
    "# Student SNA and survey result "
   ]
  },
  {
   "cell_type": "markdown",
   "id": "44500a1d-fb29-4b6a-bf7d-1ad3eb9beb60",
   "metadata": {
    "jp-MarkdownHeadingCollapsed": true,
    "tags": []
   },
   "source": [
    "## 1. indvidual student SNA dashboard"
   ]
  },
  {
   "cell_type": "code",
   "execution_count": 17,
   "id": "19eb5705-8cab-4711-a63a-940b80b8a29c",
   "metadata": {},
   "outputs": [],
   "source": [
    "SNA_network_list = ['net_0_Friends', 'net_1_Influential', 'net_2_Feedback', 'net_3_MoreTime', 'net_4_Advice', 'net_5_Disrespect'] \n",
    "studentID = df3['Participant-ID']"
   ]
  },
  {
   "cell_type": "code",
   "execution_count": 18,
   "id": "674729a6-dd1b-4bab-8025-5664fdf4c549",
   "metadata": {},
   "outputs": [
    {
     "data": {
      "text/plain": [
       "13     38007\n",
       "14     37982\n",
       "17     37851\n",
       "29     37849\n",
       "32     37992\n",
       "35     37888\n",
       "43     37878\n",
       "54     37958\n",
       "59     37904\n",
       "62     37894\n",
       "63     37965\n",
       "74     37951\n",
       "85     37927\n",
       "88     37854\n",
       "96     37983\n",
       "98     37978\n",
       "102    37884\n",
       "115    37895\n",
       "124    37872\n",
       "139    37886\n",
       "143    37997\n",
       "166    37856\n",
       "172    37890\n",
       "Name: Participant-ID, dtype: int64"
      ]
     },
     "execution_count": 18,
     "metadata": {},
     "output_type": "execute_result"
    }
   ],
   "source": [
    "studentID"
   ]
  },
  {
   "cell_type": "code",
   "execution_count": 19,
   "id": "97028a51-28d3-4c58-b5c5-a065b39fc20f",
   "metadata": {},
   "outputs": [],
   "source": [
    "student_html = studentID.iloc[3] # user select a student\n",
    "network_html = SNA_network_list[4] # user select one network to show"
   ]
  },
  {
   "cell_type": "code",
   "execution_count": 20,
   "id": "594baec1-4265-406e-9926-1be945323b3c",
   "metadata": {},
   "outputs": [
    {
     "data": {
      "image/png": "[encoded data removed]",
      "text/plain": [
       "<Figure size 640x480 with 1 Axes>"
      ]
     },
     "metadata": {},
     "output_type": "display_data"
    }
   ],
   "source": [
    "network = read_excel('Student Survey - July.xlsx', sheet_name=network_html)\n",
    "network.drop(network[network['Source'] != student_html].index, inplace=True)\n",
    "np.savetxt(r'network_result.txt', network.values, fmt='%d')\n",
    "G = nx.read_edgelist(\"network_result.txt\",create_using=nx.DiGraph())\n",
    "nx.draw_networkx(G, with_labels=True)"
   ]
  },
  {
   "cell_type": "markdown",
   "id": "f7c52de4-3be7-4183-8034-77276d867535",
   "metadata": {
    "jp-MarkdownHeadingCollapsed": true,
    "tags": []
   },
   "source": [
    "## 3 Man box (the top 5%)"
   ]
  },
  {
   "cell_type": "code",
   "execution_count": 21,
   "id": "019101f9-fd68-4012-a322-4db714446dd3",
   "metadata": {},
   "outputs": [],
   "source": [
    "# set the threshold\n",
    "threshold = df['Manbox5_overall'].quantile(0.95)"
   ]
  },
  {
   "cell_type": "code",
   "execution_count": 22,
   "id": "1c681bcc-b5fc-4428-8ee8-222e099def19",
   "metadata": {},
   "outputs": [
    {
     "data": {
      "text/html": [
       "<div>\n",
       "<style scoped>\n",
       "    .dataframe tbody tr th:only-of-type {\n",
       "        vertical-align: middle;\n",
       "    }\n",
       "\n",
       "    .dataframe tbody tr th {\n",
       "        vertical-align: top;\n",
       "    }\n",
       "\n",
       "    .dataframe thead th {\n",
       "        text-align: right;\n",
       "    }\n",
       "</style>\n",
       "<table border=\"1\" class=\"dataframe\">\n",
       "  <thead>\n",
       "    <tr style=\"text-align: right;\">\n",
       "      <th></th>\n",
       "      <th>Participant-ID</th>\n",
       "      <th>First-Name</th>\n",
       "      <th>Last-Name</th>\n",
       "      <th>Manbox5_overall</th>\n",
       "    </tr>\n",
       "  </thead>\n",
       "  <tbody>\n",
       "    <tr>\n",
       "      <th>17</th>\n",
       "      <td>37851</td>\n",
       "      <td>Spencer</td>\n",
       "      <td>Woodward</td>\n",
       "      <td>4.2</td>\n",
       "    </tr>\n",
       "  </tbody>\n",
       "</table>\n",
       "</div>"
      ],
      "text/plain": [
       "    Participant-ID First-Name Last-Name  Manbox5_overall\n",
       "17           37851    Spencer  Woodward              4.2"
      ]
     },
     "execution_count": 22,
     "metadata": {},
     "output_type": "execute_result"
    }
   ],
   "source": [
    "df3[['Participant-ID', 'First-Name', 'Last-Name', 'Manbox5_overall']][df3['Manbox5_overall'] >= threshold]"
   ]
  },
  {
   "cell_type": "markdown",
   "id": "2f91ef4e-5ed5-44fb-b42d-4ac22f7263c3",
   "metadata": {
    "tags": []
   },
   "source": [
    "#### 3.1 For each student in the list, show their network relationships"
   ]
  },
  {
   "cell_type": "code",
   "execution_count": 23,
   "id": "3a79016f-8d60-4102-9340-feb1fa0dba7d",
   "metadata": {},
   "outputs": [],
   "source": [
    "SNA_network_list = ['net_0_Friends', 'net_1_Influential', 'net_2_Feedback', 'net_3_MoreTime', 'net_4_Advice', 'net_5_Disrespect']\n",
    "\n",
    "network_html = SNA_network_list[0] # user select one network to show\n",
    "student_html = studentID.iloc[20] # user select a student"
   ]
  },
  {
   "cell_type": "code",
   "execution_count": 24,
   "id": "fc302e0a-0240-41db-b70c-62276726c438",
   "metadata": {},
   "outputs": [
    {
     "data": {
      "image/png": "[encoded data removed]",
      "text/plain": [
       "<Figure size 640x480 with 1 Axes>"
      ]
     },
     "metadata": {},
     "output_type": "display_data"
    }
   ],
   "source": [
    "network = read_excel('Student Survey - July.xlsx', sheet_name=network_html)\n",
    "network.drop(network[network['Source'] != student_html].index, inplace=True)\n",
    "np.savetxt(r'network_result.txt', network.values, fmt='%d')\n",
    "G = nx.read_edgelist(\"network_result.txt\",create_using=nx.DiGraph())\n",
    "nx.draw_networkx(G, with_labels=True)"
   ]
  },
  {
   "cell_type": "markdown",
   "id": "d0a50664-79d5-4483-94df-df5a9d5404e9",
   "metadata": {
    "jp-MarkdownHeadingCollapsed": true,
    "tags": []
   },
   "source": [
    "## 4 Masculinity measure (the top 5%)"
   ]
  },
  {
   "cell_type": "code",
   "execution_count": 25,
   "id": "2e900be9-cdf3-498e-baa9-c0cb843f933b",
   "metadata": {},
   "outputs": [],
   "source": [
    "# set the threshold\n",
    "threshold = df['Masculinity_contrained'].quantile(0.95)"
   ]
  },
  {
   "cell_type": "code",
   "execution_count": 26,
   "id": "9ee9e658-1308-4932-8869-bca58598d343",
   "metadata": {},
   "outputs": [
    {
     "data": {
      "text/html": [
       "<div>\n",
       "<style scoped>\n",
       "    .dataframe tbody tr th:only-of-type {\n",
       "        vertical-align: middle;\n",
       "    }\n",
       "\n",
       "    .dataframe tbody tr th {\n",
       "        vertical-align: top;\n",
       "    }\n",
       "\n",
       "    .dataframe thead th {\n",
       "        text-align: right;\n",
       "    }\n",
       "</style>\n",
       "<table border=\"1\" class=\"dataframe\">\n",
       "  <thead>\n",
       "    <tr style=\"text-align: right;\">\n",
       "      <th></th>\n",
       "      <th>Participant-ID</th>\n",
       "      <th>First-Name</th>\n",
       "      <th>Last-Name</th>\n",
       "      <th>Masculinity_contrained</th>\n",
       "    </tr>\n",
       "  </thead>\n",
       "  <tbody>\n",
       "    <tr>\n",
       "      <th>17</th>\n",
       "      <td>37851</td>\n",
       "      <td>Spencer</td>\n",
       "      <td>Woodward</td>\n",
       "      <td>5.5</td>\n",
       "    </tr>\n",
       "  </tbody>\n",
       "</table>\n",
       "</div>"
      ],
      "text/plain": [
       "    Participant-ID First-Name Last-Name  Masculinity_contrained\n",
       "17           37851    Spencer  Woodward                     5.5"
      ]
     },
     "execution_count": 26,
     "metadata": {},
     "output_type": "execute_result"
    }
   ],
   "source": [
    "df3[['Participant-ID', 'First-Name', 'Last-Name', 'Masculinity_contrained']][df3['Masculinity_contrained'] >= threshold]"
   ]
  },
  {
   "cell_type": "markdown",
   "id": "4c2e812a-760b-470c-b3a0-073961fcb545",
   "metadata": {
    "tags": []
   },
   "source": [
    "#### 4.1 For each student in the list, show their network relationships"
   ]
  },
  {
   "cell_type": "code",
   "execution_count": 27,
   "id": "2605324a-90ac-474e-b399-0a34ba1bd8cb",
   "metadata": {},
   "outputs": [],
   "source": [
    "SNA_network_list = ['net_0_Friends', 'net_1_Influential', 'net_2_Feedback', 'net_3_MoreTime', 'net_4_Advice', 'net_5_Disrespect']\n",
    "\n",
    "network_html = SNA_network_list[3] # user select one network to show\n",
    "student_html = studentID.iloc[18] # user select a student"
   ]
  },
  {
   "cell_type": "code",
   "execution_count": 28,
   "id": "8c0220a6-cea8-4de4-830b-7426ed1dbb12",
   "metadata": {},
   "outputs": [
    {
     "data": {
      "image/png": "[encoded data removed]",
      "text/plain": [
       "<Figure size 640x480 with 1 Axes>"
      ]
     },
     "metadata": {},
     "output_type": "display_data"
    }
   ],
   "source": [
    "network = read_excel('Student Survey - July.xlsx', sheet_name=network_html)\n",
    "network.drop(network[network['Source'] != student_html].index, inplace=True)\n",
    "np.savetxt(r'network_result.txt', network.values, fmt='%d')\n",
    "G = nx.read_edgelist(\"network_result.txt\",create_using=nx.DiGraph())\n",
    "nx.draw_networkx(G, with_labels=True)"
   ]
  },
  {
   "cell_type": "markdown",
   "id": "2722203f-710f-4be0-8fc9-f84d2fa1a4cc",
   "metadata": {
    "tags": []
   },
   "source": [
    "## 5 School engagment measure (the top 5%)"
   ]
  },
  {
   "cell_type": "markdown",
   "id": "6ef81a50-fe67-4f3f-badc-bb7febb4fce9",
   "metadata": {
    "tags": []
   },
   "source": [
    "#### 5.1a The most engage"
   ]
  },
  {
   "cell_type": "code",
   "execution_count": 29,
   "id": "924fee41-f265-4221-ab6c-b6e592e8e1ff",
   "metadata": {},
   "outputs": [],
   "source": [
    "# set the threshold\n",
    "threshold = df['School_support_engage6'].quantile(0.95)"
   ]
  },
  {
   "cell_type": "code",
   "execution_count": 30,
   "id": "771c950d-ec0f-469c-8d62-d24a7d195181",
   "metadata": {},
   "outputs": [
    {
     "data": {
      "text/html": [
       "<div>\n",
       "<style scoped>\n",
       "    .dataframe tbody tr th:only-of-type {\n",
       "        vertical-align: middle;\n",
       "    }\n",
       "\n",
       "    .dataframe tbody tr th {\n",
       "        vertical-align: top;\n",
       "    }\n",
       "\n",
       "    .dataframe thead th {\n",
       "        text-align: right;\n",
       "    }\n",
       "</style>\n",
       "<table border=\"1\" class=\"dataframe\">\n",
       "  <thead>\n",
       "    <tr style=\"text-align: right;\">\n",
       "      <th></th>\n",
       "      <th>Participant-ID</th>\n",
       "      <th>First-Name</th>\n",
       "      <th>Last-Name</th>\n",
       "      <th>School_support_engage6</th>\n",
       "    </tr>\n",
       "  </thead>\n",
       "  <tbody>\n",
       "    <tr>\n",
       "      <th>14</th>\n",
       "      <td>37982</td>\n",
       "      <td>Hayden</td>\n",
       "      <td>West</td>\n",
       "      <td>6.5</td>\n",
       "    </tr>\n",
       "    <tr>\n",
       "      <th>29</th>\n",
       "      <td>37849</td>\n",
       "      <td>Graham</td>\n",
       "      <td>Glenn</td>\n",
       "      <td>6.5</td>\n",
       "    </tr>\n",
       "    <tr>\n",
       "      <th>85</th>\n",
       "      <td>37927</td>\n",
       "      <td>Benjamin</td>\n",
       "      <td>Miller</td>\n",
       "      <td>6.5</td>\n",
       "    </tr>\n",
       "    <tr>\n",
       "      <th>88</th>\n",
       "      <td>37854</td>\n",
       "      <td>Christian</td>\n",
       "      <td>Campbell</td>\n",
       "      <td>6.5</td>\n",
       "    </tr>\n",
       "  </tbody>\n",
       "</table>\n",
       "</div>"
      ],
      "text/plain": [
       "    Participant-ID First-Name Last-Name  School_support_engage6\n",
       "14           37982     Hayden      West                     6.5\n",
       "29           37849     Graham     Glenn                     6.5\n",
       "85           37927   Benjamin    Miller                     6.5\n",
       "88           37854  Christian  Campbell                     6.5"
      ]
     },
     "execution_count": 30,
     "metadata": {},
     "output_type": "execute_result"
    }
   ],
   "source": [
    "df3[['Participant-ID', 'First-Name', 'Last-Name', 'School_support_engage6']][df3['School_support_engage6'] >= threshold]"
   ]
  },
  {
   "cell_type": "markdown",
   "id": "fdd1054e-2ea6-4bc7-add0-c0474c18291d",
   "metadata": {
    "jp-MarkdownHeadingCollapsed": true,
    "tags": []
   },
   "source": [
    "#### 5.2 For each student in the list, show their network relationships"
   ]
  },
  {
   "cell_type": "code",
   "execution_count": 33,
   "id": "c58964f7-15f8-43ff-99d4-51bbdc78252a",
   "metadata": {},
   "outputs": [],
   "source": [
    "SNA_network_list = ['net_0_Friends', 'net_1_Influential', 'net_2_Feedback', 'net_3_MoreTime', 'net_4_Advice', 'net_5_Disrespect'] \n",
    "network_html = SNA_network_list[3] # user select one network to show\n",
    "student_html = studentID.iloc[12] # user select a student"
   ]
  },
  {
   "cell_type": "code",
   "execution_count": 34,
   "id": "89de7caa-093f-49d3-a08c-c5b44aef89d0",
   "metadata": {},
   "outputs": [
    {
     "data": {
      "image/png": "[encoded data removed]",
      "text/plain": [
       "<Figure size 640x480 with 1 Axes>"
      ]
     },
     "metadata": {},
     "output_type": "display_data"
    }
   ],
   "source": [
    "network = read_excel('Student Survey - July.xlsx', sheet_name=network_html)\n",
    "network.drop(network[network['Source'] != student_html].index, inplace=True)\n",
    "np.savetxt(r'network_result.txt', network.values, fmt='%d')\n",
    "G = nx.read_edgelist(\"network_result.txt\",create_using=nx.DiGraph())\n",
    "nx.draw_networkx(G, with_labels=True)"
   ]
  },
  {
   "cell_type": "markdown",
   "id": "77912320-165b-427d-8acf-8f2fd335d13e",
   "metadata": {
    "jp-MarkdownHeadingCollapsed": true,
    "tags": []
   },
   "source": [
    "## 6 Learning difficulties (the top 5%)"
   ]
  },
  {
   "cell_type": "code",
   "execution_count": 35,
   "id": "64eda076-53e7-4948-a343-8f4bfd26c0fc",
   "metadata": {},
   "outputs": [],
   "source": [
    "# set the threshold\n",
    "threshold = df['GrowthMindset'].quantile(0.95)"
   ]
  },
  {
   "cell_type": "code",
   "execution_count": 36,
   "id": "dcf9bb51-7dd2-448c-9d8e-88d63f4a4317",
   "metadata": {},
   "outputs": [
    {
     "data": {
      "text/html": [
       "<div>\n",
       "<style scoped>\n",
       "    .dataframe tbody tr th:only-of-type {\n",
       "        vertical-align: middle;\n",
       "    }\n",
       "\n",
       "    .dataframe tbody tr th {\n",
       "        vertical-align: top;\n",
       "    }\n",
       "\n",
       "    .dataframe thead th {\n",
       "        text-align: right;\n",
       "    }\n",
       "</style>\n",
       "<table border=\"1\" class=\"dataframe\">\n",
       "  <thead>\n",
       "    <tr style=\"text-align: right;\">\n",
       "      <th></th>\n",
       "      <th>Participant-ID</th>\n",
       "      <th>First-Name</th>\n",
       "      <th>Last-Name</th>\n",
       "      <th>GrowthMindset</th>\n",
       "    </tr>\n",
       "  </thead>\n",
       "  <tbody>\n",
       "    <tr>\n",
       "      <th>43</th>\n",
       "      <td>37878</td>\n",
       "      <td>Levi</td>\n",
       "      <td>Mitchell</td>\n",
       "      <td>10.5</td>\n",
       "    </tr>\n",
       "    <tr>\n",
       "      <th>85</th>\n",
       "      <td>37927</td>\n",
       "      <td>Benjamin</td>\n",
       "      <td>Miller</td>\n",
       "      <td>10.5</td>\n",
       "    </tr>\n",
       "    <tr>\n",
       "      <th>166</th>\n",
       "      <td>37856</td>\n",
       "      <td>Titus</td>\n",
       "      <td>Serrano</td>\n",
       "      <td>10.5</td>\n",
       "    </tr>\n",
       "  </tbody>\n",
       "</table>\n",
       "</div>"
      ],
      "text/plain": [
       "     Participant-ID First-Name Last-Name  GrowthMindset\n",
       "43            37878       Levi  Mitchell           10.5\n",
       "85            37927   Benjamin    Miller           10.5\n",
       "166           37856      Titus   Serrano           10.5"
      ]
     },
     "execution_count": 36,
     "metadata": {},
     "output_type": "execute_result"
    }
   ],
   "source": [
    "df3[['Participant-ID', 'First-Name', 'Last-Name', 'GrowthMindset']][df3['GrowthMindset'] >= threshold]"
   ]
  },
  {
   "cell_type": "markdown",
   "id": "64f44c1a-4bb3-447c-b6a0-146d2013fdb2",
   "metadata": {},
   "source": [
    "#### 6.2 For each student in the list, show their network relationships"
   ]
  },
  {
   "cell_type": "code",
   "execution_count": 37,
   "id": "d6de843f-e194-4cad-8598-f6183ec4d5d4",
   "metadata": {},
   "outputs": [],
   "source": [
    "SNA_network_list = ['net_0_Friends', 'net_1_Influential', 'net_2_Feedback', 'net_3_MoreTime', 'net_4_Advice', 'net_5_Disrespect']\n",
    "\n",
    "network_html = SNA_network_list[3] # user select one network to show\n",
    "student_html = studentID.iloc[1] # user select a student"
   ]
  },
  {
   "cell_type": "code",
   "execution_count": 38,
   "id": "3f0c77cc-a56d-40c9-86ce-9301fba1fb27",
   "metadata": {},
   "outputs": [
    {
     "data": {
      "image/png": "[encoded data removed]",
      "text/plain": [
       "<Figure size 640x480 with 1 Axes>"
      ]
     },
     "metadata": {},
     "output_type": "display_data"
    }
   ],
   "source": [
    "network = read_excel('Student Survey - July.xlsx', sheet_name=network_html)\n",
    "network.drop(network[network['Source'] != student_html].index, inplace=True)\n",
    "np.savetxt(r'network_result.txt', network.values, fmt='%d')\n",
    "G = nx.read_edgelist(\"network_result.txt\",create_using=nx.DiGraph())\n",
    "nx.draw_networkx(G, with_labels=True)"
   ]
  },
  {
   "cell_type": "markdown",
   "id": "2976f07b-8662-45a0-beed-f4079fbb8223",
   "metadata": {
    "jp-MarkdownHeadingCollapsed": true,
    "tags": []
   },
   "source": [
    "# SNA adjanency matrix"
   ]
  },
  {
   "cell_type": "code",
   "execution_count": 39,
   "id": "8b13bcef-6e43-4ee0-82ea-a5bcb59af074",
   "metadata": {},
   "outputs": [],
   "source": [
    "SNA_network_list = ['net_0_Friends', 'net_1_Influential', 'net_2_Feedback', 'net_3_MoreTime', 'net_4_Advice', 'net_5_Disrespect']    \n",
    "sna_html = SNA_network_list[5] # user select a score to view"
   ]
  },
  {
   "cell_type": "code",
   "execution_count": 40,
   "id": "c8d21b53-9801-4587-ba22-885839538f09",
   "metadata": {},
   "outputs": [],
   "source": [
    "df = read_excel('Student Survey - July.xlsx', sheet_name=sna_html)\n",
    "df = df.rename(columns={'Source': 'Participant-ID', 'Target': 'Target'})\n",
    "df2 = read_excel('Student Survey - July.xlsx', sheet_name='participantsNov')\n",
    "df3 = pd.merge(df, df2, on=['Participant-ID'])\n",
    "df3 = df3[['Participant-ID', 'Target', 'House']][df3['House'] == hard_coded_house]"
   ]
  },
  {
   "cell_type": "code",
   "execution_count": 41,
   "id": "dcc4d08c-e08f-430e-98cd-49d02228db15",
   "metadata": {},
   "outputs": [
    {
     "data": {
      "image/png": "[encoded data removed]",
      "text/plain": [
       "<Figure size 640x480 with 1 Axes>"
      ]
     },
     "metadata": {},
     "output_type": "display_data"
    }
   ],
   "source": [
    "# Create a graph from the data\n",
    "G = nx.from_pandas_edgelist(df3, source='Participant-ID', target='Target')\n",
    "\n",
    "# Visualize the graph\n",
    "pos = nx.spring_layout(G)\n",
    "labels = {node: node for node in G.nodes()}\n",
    "\n",
    "# Create a figure and axis objects\n",
    "fig, ax = plt.subplots()\n",
    "\n",
    "# Draw the graph on the axis\n",
    "nx.draw(G, pos, with_labels=True, labels=labels, node_size=500, node_color='skyblue', font_size=8, ax=ax)\n",
    "\n",
    "# Show the plot\n",
    "plt.show()"
   ]
  }
 ],
 "metadata": {
  "kernelspec": {
   "display_name": "Python 3 (ipykernel)",
   "language": "python",
   "name": "python3"
  },
  "language_info": {
   "codemirror_mode": {
    "name": "ipython",
    "version": 3
   },
   "file_extension": ".py",
   "mimetype": "text/x-python",
   "name": "python",
   "nbconvert_exporter": "python",
   "pygments_lexer": "ipython3",
   "version": "3.9.12"
  }
 },
 "nbformat": 4,
 "nbformat_minor": 5
}
