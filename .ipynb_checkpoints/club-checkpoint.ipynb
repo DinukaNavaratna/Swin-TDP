{
 "cells": [
  {
   "cell_type": "code",
   "execution_count": 1,
   "id": "216b7ac3-782b-4028-8513-d7175e600e91",
   "metadata": {},
   "outputs": [],
   "source": [
    "import numpy as np\n",
    "import pandas as pd\n",
    "from pandas import read_excel\n",
    "\n",
    "import networkx as nx\n",
    "import matplotlib.pyplot as plt\n",
    "import seaborn as sns"
   ]
  },
  {
   "cell_type": "code",
   "execution_count": 2,
   "id": "7794da03-a6ef-4ebe-ad55-0b314c5bc938",
   "metadata": {},
   "outputs": [],
   "source": [
    "# data source\n",
    "\n",
    "# survey result  \n",
    "df_principal_club = read_excel('Student Survey - July.xlsx', sheet_name='responses')\n",
    "\n",
    "# students attributes\n",
    "df2_principal_club = read_excel('Student Survey - July.xlsx', sheet_name='participantsNov')\n",
    "\n",
    "# club\n",
    "club_jul = read_excel('Student Survey - July.xlsx', sheet_name='net_affiliation_0_SchoolActivit')\n",
    "club_jan = read_excel('Student Survey - Jan.xlsx', sheet_name='net_affiliation_0_SchoolActivit')\n",
    "student_club = club_jan.merge(club_jul, on='ID merge', how='outer')\n",
    "student_club = student_club.drop_duplicates(subset=['Club', 'ID merge'], keep='first')\n",
    "student_club = student_club.drop(['Source_x', 'Target_x', 'ID merge', 'Target_y'], axis=1)\n",
    "student_club = student_club.rename(columns={'Source_y': 'Participant-ID'})\n",
    "\n",
    "# inner merge on participant ID\n",
    "df3_principal_club = pd.merge(df_principal_club, df2_principal_club, on=['Participant-ID'])\n",
    "\n",
    "# outer merge student with clubs\n",
    "df4_principal_club = student_club.merge(df3_principal_club, on='Participant-ID', how='outer')\n",
    "\n",
    "# data cleaning\n",
    "# select only 'completed'\n",
    "df4_principal_club = df4_principal_club[df4_principal_club['Status'].isin(['completed'])]"
   ]
  },
  {
   "cell_type": "markdown",
   "id": "0f836dc3-0865-410e-981a-c9b6b9cff598",
   "metadata": {},
   "source": [
    "## SNA adjanacy matrix by club"
   ]
  },
  {
   "cell_type": "code",
   "execution_count": 3,
   "id": "56add0aa-5941-47f0-93f0-a46e76475e99",
   "metadata": {},
   "outputs": [],
   "source": [
    "club_list = student_club['Club'].unique().tolist()"
   ]
  },
  {
   "cell_type": "code",
   "execution_count": 4,
   "id": "9820c1f1-ca79-46e6-b8c2-3fc6da2371ad",
   "metadata": {},
   "outputs": [
    {
     "data": {
      "text/plain": [
       "27"
      ]
     },
     "execution_count": 4,
     "metadata": {},
     "output_type": "execute_result"
    }
   ],
   "source": [
    "len(club_list)"
   ]
  },
  {
   "cell_type": "code",
   "execution_count": 5,
   "id": "bf3b9adb-99ce-4e61-85e8-218fef1c83f3",
   "metadata": {},
   "outputs": [],
   "source": [
    "sna_cat = ['net_0_Friends', 'net_1_Influential', 'net_2_Feedback', 'net_3_MoreTime', 'net_4_Advice', 'net_5_Disrespect']\n",
    "    \n",
    "club_html = club_list[3] # user select a house\n",
    "sna_cat_html = sna_cat[5] # user select a score to view"
   ]
  },
  {
   "cell_type": "code",
   "execution_count": 6,
   "id": "617cb43e-6b33-46ee-bc12-88edc0487e43",
   "metadata": {},
   "outputs": [],
   "source": [
    "principal_sna_club_cat = read_excel('Student Survey - July.xlsx', sheet_name=sna_cat_html)\n",
    "principal_sna_club_cat = principal_sna_club_cat.rename(columns={'Source': 'Participant-ID', 'Target': 'Target'})\n",
    "principal_sna_club_participant = read_excel('Student Survey - July.xlsx', sheet_name='participantsNov')\n",
    "\n",
    "\n",
    "principal_sna_club_plot = pd.merge(principal_sna_club_cat, principal_sna_club_participant, on=['Participant-ID'])\n",
    "\n",
    "principal_sna_club_plot = student_club.merge(principal_sna_club_plot, on='Participant-ID', how='outer')\n",
    "\n",
    "principal_sna_club_plot = principal_sna_club_plot[['Participant-ID', 'Target', 'Club']][principal_sna_club_plot['Club'] == club_html]"
   ]
  },
  {
   "cell_type": "code",
   "execution_count": 7,
   "id": "213ae1b4-610c-4586-ab26-2d6c9ef84ed3",
   "metadata": {},
   "outputs": [
    {
     "data": {
      "image/png": "[encoded data removed]",
      "text/plain": [
       "<Figure size 640x480 with 1 Axes>"
      ]
     },
     "metadata": {},
     "output_type": "display_data"
    }
   ],
   "source": [
    "# Create a graph from the data\n",
    "G = nx.from_pandas_edgelist(principal_sna_club_plot, source='Participant-ID', target='Target')\n",
    "\n",
    "# Visualize the graph\n",
    "pos = nx.spring_layout(G)\n",
    "labels = {node: node for node in G.nodes()}\n",
    "\n",
    "# Create a figure and axis objects\n",
    "fig, ax = plt.subplots()\n",
    "\n",
    "# Draw the graph on the axis\n",
    "nx.draw(G, pos, with_labels=True, labels=labels, node_size=100, node_color='skyblue', font_size=8, ax=ax)\n",
    "\n",
    "# Show the plot\n",
    "plt.show()"
   ]
  },
  {
   "cell_type": "code",
   "execution_count": 8,
   "id": "a159c414-e895-4a49-915f-e8c70d543048",
   "metadata": {},
   "outputs": [
    {
     "data": {
      "text/plain": [
       "'Yoga Club'"
      ]
     },
     "execution_count": 8,
     "metadata": {},
     "output_type": "execute_result"
    }
   ],
   "source": [
    "club_list[3]"
   ]
  },
  {
   "cell_type": "code",
   "execution_count": null,
   "id": "bb88c5e0-31b6-4b18-8ed6-34d845497b32",
   "metadata": {},
   "outputs": [],
   "source": []
  }
 ],
 "metadata": {
  "kernelspec": {
   "display_name": "Python 3 (ipykernel)",
   "language": "python",
   "name": "python3"
  },
  "language_info": {
   "codemirror_mode": {
    "name": "ipython",
    "version": 3
   },
   "file_extension": ".py",
   "mimetype": "text/x-python",
   "name": "python",
   "nbconvert_exporter": "python",
   "pygments_lexer": "ipython3",
   "version": "3.9.12"
  }
 },
 "nbformat": 4,
 "nbformat_minor": 5
}
