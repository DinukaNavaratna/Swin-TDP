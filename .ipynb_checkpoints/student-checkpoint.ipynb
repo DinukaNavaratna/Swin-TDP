{
 "cells": [
  {
   "cell_type": "code",
   "execution_count": 1,
   "id": "5a7fb10a-dd43-4a62-90f1-a39c4a6ad265",
   "metadata": {},
   "outputs": [],
   "source": [
    "import numpy as np\n",
    "import pandas as pd\n",
    "from pandas import read_excel\n",
    "\n",
    "import networkx as nx\n",
    "import matplotlib.pyplot as plt"
   ]
  },
  {
   "cell_type": "code",
   "execution_count": 2,
   "id": "7c5375ea-cdbf-4d4a-b07e-24b0a3c78bb5",
   "metadata": {},
   "outputs": [],
   "source": [
    "# data source\n",
    "# survey result  \n",
    "df_student = read_excel('Student Survey - July.xlsx', sheet_name='responses')\n",
    "# students attributes\n",
    "df2_student = read_excel('Student Survey - July.xlsx', sheet_name='participantsNov')\n",
    "# inner merge on participant ID\n",
    "temp_student_source = pd.merge(df_student, df2_student, on=['Participant-ID'])\n",
    "\n",
    "# data cleaning\n",
    "# hard-code a house\n",
    "hard_coded_studentID = 37915\n",
    "hard_coded_student_house = 'Griffin'\n",
    "# filter to show only the student\n",
    "df3_student = temp_student_source[temp_student_source['Participant-ID'] == hard_coded_studentID]"
   ]
  },
  {
   "cell_type": "markdown",
   "id": "c7447167-ec08-4001-bbff-5b6509ed9d10",
   "metadata": {
    "tags": []
   },
   "source": [
    "# Survey status"
   ]
  },
  {
   "cell_type": "code",
   "execution_count": 3,
   "id": "6f02b412-193a-41ee-b2e6-5f11d7105d3d",
   "metadata": {},
   "outputs": [
    {
     "name": "stdout",
     "output_type": "stream",
     "text": [
      "Your survey status is completed\n"
     ]
    }
   ],
   "source": [
    "print('Your survey status is', df3_student['Status'].values[0])"
   ]
  },
  {
   "cell_type": "markdown",
   "id": "19f8d848-4a86-4a47-afc1-3313cd56cc22",
   "metadata": {
    "tags": []
   },
   "source": [
    "## Survey result"
   ]
  },
  {
   "cell_type": "code",
   "execution_count": 4,
   "id": "f1204863-1fe6-4f52-8a24-6ffcc0143ce9",
   "metadata": {},
   "outputs": [],
   "source": [
    "survet_result = df3_student[['Attendance', 'Perc_Academic', 'comfortable', 'isolated', 'criticises', 'opinion', 'bullying', 'future', 'pwi_wellbeing', \n",
    "                             'k6_1', 'k6_2', 'k6_3', 'k6_4', 'k6_5', 'k6_6', 'Intelligence1', 'COVID', 'Intelligence2', \n",
    "                             'Manbox5_1', 'Manbox5_2', 'Manbox5_3', 'Manbox5_4', 'Manbox5_5', 'Soft', 'WomenDifferent', 'Nerds', 'MenBetterSTEM', 'YourComments']].transpose()"
   ]
  },
  {
   "cell_type": "code",
   "execution_count": 5,
   "id": "0bb4ea4e-cdea-47cc-b1b7-34ed1c545361",
   "metadata": {},
   "outputs": [],
   "source": [
    "survet_result['Question'] = ['Attandance',\n",
    "                             'Academic Result', \n",
    "                             'I feel comfortable at The School', \n",
    "                             'At school, I feel isolated because of my opinions', \n",
    "                             'When someone criticises The School, it feels like a personal insult', \n",
    "                             'At school, my opinion doesn’t count for much', \n",
    "                             'At this school, bullying is not tolerated at all', \n",
    "                             'I believe that what I learn at school will help me in my future', \n",
    "                             'How happy are you with your life as a whole?', \n",
    "                             'During the past 30 days, about how often did you feel nervous?', \n",
    "                             'During the past 30 days, about how often did you feel hopeless?', \n",
    "                             'During the past 30 days, about how often did you feel restless or fidgety?', \n",
    "                             'During the past 30 days, about how often did you feel so depressed that nothing could cheer you up?', \n",
    "                             'During the past 30 days, about how often did you feel that everything was an effort?', \n",
    "                             'During the past 30 days, about how often did you feel worthless?', \n",
    "                             'I have a certain amount of intelligence, and I can’t really do much to change it', \n",
    "                             'I feel worried that COVID-19 has had a big impact on my education.', \n",
    "                             'I can learn new things, but I can’t really change my basic intelligence.', \n",
    "                             'In my opinion a man shouldn\\'t have to do household chores', \n",
    "                             'In my opinion men should use violence to get respect if necessary', \n",
    "                             'In my opinion a real man should have as many sexual partners as he can', \n",
    "                             'In my opinion a man who talks a lot about his worries, fears, and problems shouldn\\'t really get respect', \n",
    "                             'In my opinion a gay guy is not a \"real man\"',\n",
    "                             'Boys who don\\’t play sport are \"soft\"', \n",
    "                             'Women and men are just naturally different in the way they think and behave', \n",
    "                             'Boys who get good marks at school are \"nerds\"', \n",
    "                             'Men are better than women at things like science, engineering, medicine and technology', \n",
    "                             'Your comments']"
   ]
  },
  {
   "cell_type": "code",
   "execution_count": 6,
   "id": "095a58a2-ccef-407b-9004-b2ed0fb0f3f1",
   "metadata": {},
   "outputs": [],
   "source": [
    "survet_result.reset_index(drop=True, inplace=True)\n",
    "survet_result.rename(columns={11: 'Answer'}, inplace=True)\n",
    "survet_result = survet_result[['Question', 'Answer']]"
   ]
  },
  {
   "cell_type": "code",
   "execution_count": 7,
   "id": "381b4e86-c2a8-4170-9c15-7da4f9f61857",
   "metadata": {},
   "outputs": [
    {
     "data": {
      "text/html": [
       "<div>\n",
       "<style scoped>\n",
       "    .dataframe tbody tr th:only-of-type {\n",
       "        vertical-align: middle;\n",
       "    }\n",
       "\n",
       "    .dataframe tbody tr th {\n",
       "        vertical-align: top;\n",
       "    }\n",
       "\n",
       "    .dataframe thead th {\n",
       "        text-align: right;\n",
       "    }\n",
       "</style>\n",
       "<table border=\"1\" class=\"dataframe\">\n",
       "  <thead>\n",
       "    <tr style=\"text-align: right;\">\n",
       "      <th></th>\n",
       "      <th>Question</th>\n",
       "      <th>Answer</th>\n",
       "    </tr>\n",
       "  </thead>\n",
       "  <tbody>\n",
       "    <tr>\n",
       "      <th>0</th>\n",
       "      <td>Attandance</td>\n",
       "      <td>89.0</td>\n",
       "    </tr>\n",
       "    <tr>\n",
       "      <th>1</th>\n",
       "      <td>Academic Result</td>\n",
       "      <td>72</td>\n",
       "    </tr>\n",
       "    <tr>\n",
       "      <th>2</th>\n",
       "      <td>I feel comfortable at The School</td>\n",
       "      <td>6.0</td>\n",
       "    </tr>\n",
       "    <tr>\n",
       "      <th>3</th>\n",
       "      <td>At school, I feel isolated because of my opinions</td>\n",
       "      <td>4.0</td>\n",
       "    </tr>\n",
       "    <tr>\n",
       "      <th>4</th>\n",
       "      <td>When someone criticises The School, it feels l...</td>\n",
       "      <td>7.0</td>\n",
       "    </tr>\n",
       "    <tr>\n",
       "      <th>5</th>\n",
       "      <td>At school, my opinion doesn’t count for much</td>\n",
       "      <td>7.0</td>\n",
       "    </tr>\n",
       "    <tr>\n",
       "      <th>6</th>\n",
       "      <td>At this school, bullying is not tolerated at all</td>\n",
       "      <td>6.0</td>\n",
       "    </tr>\n",
       "    <tr>\n",
       "      <th>7</th>\n",
       "      <td>I believe that what I learn at school will hel...</td>\n",
       "      <td>7.0</td>\n",
       "    </tr>\n",
       "    <tr>\n",
       "      <th>8</th>\n",
       "      <td>How happy are you with your life as a whole?</td>\n",
       "      <td>7.0</td>\n",
       "    </tr>\n",
       "    <tr>\n",
       "      <th>9</th>\n",
       "      <td>During the past 30 days, about how often did y...</td>\n",
       "      <td>4.0</td>\n",
       "    </tr>\n",
       "    <tr>\n",
       "      <th>10</th>\n",
       "      <td>During the past 30 days, about how often did y...</td>\n",
       "      <td>2.0</td>\n",
       "    </tr>\n",
       "    <tr>\n",
       "      <th>11</th>\n",
       "      <td>During the past 30 days, about how often did y...</td>\n",
       "      <td>2.0</td>\n",
       "    </tr>\n",
       "    <tr>\n",
       "      <th>12</th>\n",
       "      <td>During the past 30 days, about how often did y...</td>\n",
       "      <td>2.0</td>\n",
       "    </tr>\n",
       "    <tr>\n",
       "      <th>13</th>\n",
       "      <td>During the past 30 days, about how often did y...</td>\n",
       "      <td>3.0</td>\n",
       "    </tr>\n",
       "    <tr>\n",
       "      <th>14</th>\n",
       "      <td>During the past 30 days, about how often did y...</td>\n",
       "      <td>2.0</td>\n",
       "    </tr>\n",
       "    <tr>\n",
       "      <th>15</th>\n",
       "      <td>I have a certain amount of intelligence, and I...</td>\n",
       "      <td>1.0</td>\n",
       "    </tr>\n",
       "    <tr>\n",
       "      <th>16</th>\n",
       "      <td>I feel worried that COVID-19 has had a big imp...</td>\n",
       "      <td>5.0</td>\n",
       "    </tr>\n",
       "    <tr>\n",
       "      <th>17</th>\n",
       "      <td>I can learn new things, but I can’t really cha...</td>\n",
       "      <td>2.0</td>\n",
       "    </tr>\n",
       "    <tr>\n",
       "      <th>18</th>\n",
       "      <td>In my opinion a man shouldn't have to do house...</td>\n",
       "      <td>3.0</td>\n",
       "    </tr>\n",
       "    <tr>\n",
       "      <th>19</th>\n",
       "      <td>In my opinion men should use violence to get r...</td>\n",
       "      <td>5.0</td>\n",
       "    </tr>\n",
       "    <tr>\n",
       "      <th>20</th>\n",
       "      <td>In my opinion a real man should have as many s...</td>\n",
       "      <td>1.0</td>\n",
       "    </tr>\n",
       "    <tr>\n",
       "      <th>21</th>\n",
       "      <td>In my opinion a man who talks a lot about his ...</td>\n",
       "      <td>5.0</td>\n",
       "    </tr>\n",
       "    <tr>\n",
       "      <th>22</th>\n",
       "      <td>In my opinion a gay guy is not a \"real man\"</td>\n",
       "      <td>4.0</td>\n",
       "    </tr>\n",
       "    <tr>\n",
       "      <th>23</th>\n",
       "      <td>Boys who don\\’t play sport are \"soft\"</td>\n",
       "      <td>5.0</td>\n",
       "    </tr>\n",
       "    <tr>\n",
       "      <th>24</th>\n",
       "      <td>Women and men are just naturally different in ...</td>\n",
       "      <td>6.0</td>\n",
       "    </tr>\n",
       "    <tr>\n",
       "      <th>25</th>\n",
       "      <td>Boys who get good marks at school are \"nerds\"</td>\n",
       "      <td>2.0</td>\n",
       "    </tr>\n",
       "    <tr>\n",
       "      <th>26</th>\n",
       "      <td>Men are better than women at things like scien...</td>\n",
       "      <td>2.0</td>\n",
       "    </tr>\n",
       "    <tr>\n",
       "      <th>27</th>\n",
       "      <td>Your comments</td>\n",
       "      <td>There's a sense of belonging; we support each ...</td>\n",
       "    </tr>\n",
       "  </tbody>\n",
       "</table>\n",
       "</div>"
      ],
      "text/plain": [
       "                                             Question  \\\n",
       "0                                          Attandance   \n",
       "1                                     Academic Result   \n",
       "2                    I feel comfortable at The School   \n",
       "3   At school, I feel isolated because of my opinions   \n",
       "4   When someone criticises The School, it feels l...   \n",
       "5        At school, my opinion doesn’t count for much   \n",
       "6    At this school, bullying is not tolerated at all   \n",
       "7   I believe that what I learn at school will hel...   \n",
       "8        How happy are you with your life as a whole?   \n",
       "9   During the past 30 days, about how often did y...   \n",
       "10  During the past 30 days, about how often did y...   \n",
       "11  During the past 30 days, about how often did y...   \n",
       "12  During the past 30 days, about how often did y...   \n",
       "13  During the past 30 days, about how often did y...   \n",
       "14  During the past 30 days, about how often did y...   \n",
       "15  I have a certain amount of intelligence, and I...   \n",
       "16  I feel worried that COVID-19 has had a big imp...   \n",
       "17  I can learn new things, but I can’t really cha...   \n",
       "18  In my opinion a man shouldn't have to do house...   \n",
       "19  In my opinion men should use violence to get r...   \n",
       "20  In my opinion a real man should have as many s...   \n",
       "21  In my opinion a man who talks a lot about his ...   \n",
       "22        In my opinion a gay guy is not a \"real man\"   \n",
       "23              Boys who don\\’t play sport are \"soft\"   \n",
       "24  Women and men are just naturally different in ...   \n",
       "25      Boys who get good marks at school are \"nerds\"   \n",
       "26  Men are better than women at things like scien...   \n",
       "27                                      Your comments   \n",
       "\n",
       "                                               Answer  \n",
       "0                                                89.0  \n",
       "1                                                  72  \n",
       "2                                                 6.0  \n",
       "3                                                 4.0  \n",
       "4                                                 7.0  \n",
       "5                                                 7.0  \n",
       "6                                                 6.0  \n",
       "7                                                 7.0  \n",
       "8                                                 7.0  \n",
       "9                                                 4.0  \n",
       "10                                                2.0  \n",
       "11                                                2.0  \n",
       "12                                                2.0  \n",
       "13                                                3.0  \n",
       "14                                                2.0  \n",
       "15                                                1.0  \n",
       "16                                                5.0  \n",
       "17                                                2.0  \n",
       "18                                                3.0  \n",
       "19                                                5.0  \n",
       "20                                                1.0  \n",
       "21                                                5.0  \n",
       "22                                                4.0  \n",
       "23                                                5.0  \n",
       "24                                                6.0  \n",
       "25                                                2.0  \n",
       "26                                                2.0  \n",
       "27  There's a sense of belonging; we support each ...  "
      ]
     },
     "execution_count": 7,
     "metadata": {},
     "output_type": "execute_result"
    }
   ],
   "source": [
    "survet_result"
   ]
  },
  {
   "cell_type": "markdown",
   "id": "393c0d95-ade9-4114-b2fd-2ed2bfdac4c0",
   "metadata": {},
   "source": [
    "## SNA nodes nominated"
   ]
  },
  {
   "cell_type": "code",
   "execution_count": 8,
   "id": "50edce31-9cc7-4cb5-82cf-eb0dfa9d0000",
   "metadata": {},
   "outputs": [],
   "source": [
    "sna_cat = ['net_0_Friends', 'net_1_Influential', 'net_2_Feedback', 'net_3_MoreTime', 'net_4_Advice', 'net_5_Disrespect']\n",
    "\n",
    "student_sna_cat = sna_cat[5] # user select one network to show"
   ]
  },
  {
   "cell_type": "code",
   "execution_count": 9,
   "id": "4075bb72-aa26-4a47-92eb-7a87157762f1",
   "metadata": {},
   "outputs": [
    {
     "data": {
      "image/png": "[encoded data removed]",
      "text/plain": [
       "<Figure size 640x480 with 1 Axes>"
      ]
     },
     "metadata": {},
     "output_type": "display_data"
    }
   ],
   "source": [
    "student_sna = read_excel('Student Survey - July.xlsx', sheet_name=student_sna_cat)\n",
    "student_sna.drop(student_sna[student_sna['Source'] != hard_coded_studentID].index, inplace=True)\n",
    "np.savetxt(r'network_result.txt', student_sna.values, fmt='%d')\n",
    "G = nx.read_edgelist(\"network_result.txt\",create_using=nx.DiGraph())\n",
    "nx.draw_networkx(G, with_labels=True)"
   ]
  },
  {
   "cell_type": "markdown",
   "id": "7628171d-8865-4fbc-bf11-8f130505e9bf",
   "metadata": {},
   "source": [
    "## SNA nodes of student's class (excluded the students and his/her direct nomination to protect privacy) "
   ]
  },
  {
   "cell_type": "code",
   "execution_count": 137,
   "id": "bfd6886c-3289-4ed6-9a33-977af8352e1f",
   "metadata": {},
   "outputs": [],
   "source": [
    "sna_cat_exclude_disresprect = ['net_0_Friends', 'net_1_Influential', 'net_2_Feedback', 'net_3_MoreTime', 'net_4_Advice']\n",
    "\n",
    "student_sna_html = sna_cat_exclude_disresprect[4] # user select a score to view\n",
    "\n",
    "student_sna_cat = read_excel('Student Survey - July.xlsx', sheet_name=student_sna_html)\n",
    "student_sna_cat = student_sna_cat.rename(columns={'Source': 'Participant-ID', 'Target': 'Target'})\n",
    "student_sna_cat = student_sna_cat[(student_sna_cat['Participant-ID'] != hard_coded_studentID) & (student_sna_cat['Target'] != hard_coded_studentID)]\n",
    "\n",
    "student_sna_participant = read_excel('Student Survey - July.xlsx', sheet_name='participantsNov')\n",
    "student_sna_plot = pd.merge(student_sna_cat, student_sna_participant, on=['Participant-ID'])\n",
    "student_sna_plot = student_sna_plot[['Participant-ID', 'Target', 'House']][student_sna_plot['House'] == hard_coded_student_house]\n",
    "\n",
    "\n",
    "student_sna_plot['Participant-ID'] = np.int64(student_sna_plot['Participant-ID'] / 2 * 3 + 5)\n",
    "student_sna_plot['Target'] = np.int64(student_sna_plot['Target'] / 2 * 3 + 5)"
   ]
  },
  {
   "cell_type": "code",
   "execution_count": 138,
   "id": "555665e5-54ea-4b4d-821c-7d40ff7a1deb",
   "metadata": {},
   "outputs": [
    {
     "data": {
      "image/png": "[encoded data removed]",
      "text/plain": [
       "<Figure size 640x480 with 1 Axes>"
      ]
     },
     "metadata": {},
     "output_type": "display_data"
    }
   ],
   "source": [
    "# Create a graph from the data\n",
    "G = nx.from_pandas_edgelist(student_sna_plot, source='Participant-ID', target='Target')\n",
    "\n",
    "# Visualize the graph\n",
    "pos = nx.spring_layout(G)\n",
    "labels = {node: node for node in G.nodes()}\n",
    "\n",
    "# Create a figure and axis objects\n",
    "fig, ax = plt.subplots()\n",
    "\n",
    "# Draw the graph on the axis\n",
    "nx.draw(G, pos, with_labels=True, labels=labels, node_size=50, node_color='skyblue', font_size=8, ax=ax)\n",
    "\n",
    "# Show the plot\n",
    "plt.show()"
   ]
  }
 ],
 "metadata": {
  "kernelspec": {
   "display_name": "Python 3 (ipykernel)",
   "language": "python",
   "name": "python3"
  },
  "language_info": {
   "codemirror_mode": {
    "name": "ipython",
    "version": 3
   },
   "file_extension": ".py",
   "mimetype": "text/x-python",
   "name": "python",
   "nbconvert_exporter": "python",
   "pygments_lexer": "ipython3",
   "version": "3.9.12"
  }
 },
 "nbformat": 4,
 "nbformat_minor": 5
}
